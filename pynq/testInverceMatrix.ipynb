{
 "cells": [
  {
   "cell_type": "code",
   "execution_count": 2,
   "metadata": {
    "collapsed": false,
    "deletable": true,
    "editable": true
   },
   "outputs": [
    {
     "name": "stdout",
     "output_type": "stream",
     "text": [
      "{'SEG_axi_fifo_mm_s_0_Mem0': [1136656384, 65536, None]}\n"
     ]
    }
   ],
   "source": [
    "from pynq import Overlay\n",
    "from pynq import PL\n",
    "ol = Overlay(\"PynqInverceMatrix2.bit\")\n",
    "ol.download()\n",
    "print(PL.ip_dict)"
   ]
  },
  {
   "cell_type": "code",
   "execution_count": 3,
   "metadata": {
    "collapsed": false,
    "deletable": true,
    "editable": true
   },
   "outputs": [
    {
     "name": "stdout",
     "output_type": "stream",
     "text": [
      "mat:\n",
      " [[-3.6245542   7.82069909]\n",
      " [-6.05252606  9.67271814]]\n",
      "\n",
      "inv mat by numpy:\n",
      " [[ 0.78795694 -0.63708815]\n",
      " [ 0.49304961 -0.29526268]]\n",
      "\n",
      "inv mat by IP:\n",
      " [[ 0.78515625 -0.6328125 ]\n",
      " [ 0.4921875  -0.29296875]]\n",
      "\n",
      "mat * inv_mat_by_IP:\n",
      " [[ 1.00340895  0.00244277]\n",
      " [ 0.0086123   0.99631   ]]\n",
      "\n",
      "mat:\n",
      " [[-2.91746271 -6.0996047 ]\n",
      " [ 6.64118165 -1.42584344]]\n",
      "\n",
      "inv mat by numpy:\n",
      " [[-0.03192061  0.13655293]\n",
      " [-0.14867731 -0.06531375]]\n",
      "\n",
      "inv mat by IP:\n",
      " [[-0.03125    0.1328125]\n",
      " [-0.1484375 -0.0625   ]]\n",
      "\n",
      "mat * inv_mat_by_IP:\n",
      " [[ 0.99658078 -0.00625022]\n",
      " [ 0.00411171  0.97114715]]\n",
      "\n"
     ]
    }
   ],
   "source": [
    "import random\n",
    "import invmat\n",
    "import numpy as np\n",
    "\n",
    "MATSIZE = 2\n",
    "NUMELEMENTS = MATSIZE*MATSIZE\n",
    "\n",
    "REPEAT = 2\n",
    "\n",
    "inv_mat = invmat.InvMat(MATSIZE)\n",
    "\n",
    "for i in range(REPEAT):\n",
    "    # IP uses 16bit fixed point with 8 fractional bits, so -10 to 10 is appropriate\n",
    "    m = np.array([random.uniform(-10, 10) for i in range(NUMELEMENTS)])\n",
    "    m = m.reshape(MATSIZE, MATSIZE)\n",
    "    print(\"mat:\\n\", m)\n",
    "    print()\n",
    "    \n",
    "    # get the inverce matrix by numpy\n",
    "    np_inv = np.linalg.inv(m)\n",
    "    print(\"inv mat by numpy:\\n\", np_inv)\n",
    "    print()\n",
    "    \n",
    "    # get the inverce matrix by IP\n",
    "    m_inv = inv_mat.inv(m.reshape(-1))\n",
    "    m_inv = np.array(m_inv)\n",
    "    m_inv = m_inv.reshape(MATSIZE, MATSIZE)\n",
    "    print(\"inv mat by IP:\\n\", m_inv)\n",
    "    print()\n",
    "    \n",
    "    prod = m.dot(m_inv)\n",
    "    print(\"mat * inv_mat_by_IP:\\n\", prod)\n",
    "    print()\n"
   ]
  },
  {
   "cell_type": "code",
   "execution_count": 4,
   "metadata": {
    "collapsed": false,
    "deletable": true,
    "editable": true
   },
   "outputs": [
    {
     "name": "stdout",
     "output_type": "stream",
     "text": [
      "{'SEG_axi_fifo_mm_s_0_Mem0': [1136656384, 65536, None]}\n"
     ]
    }
   ],
   "source": [
    "from pynq import Overlay\n",
    "from pynq import PL\n",
    "ol = Overlay(\"PynqInverceMatrix3.bit\")\n",
    "ol.download()\n",
    "print(PL.ip_dict)"
   ]
  },
  {
   "cell_type": "code",
   "execution_count": 5,
   "metadata": {
    "collapsed": false,
    "deletable": true,
    "editable": true
   },
   "outputs": [
    {
     "name": "stdout",
     "output_type": "stream",
     "text": [
      "mat:\n",
      " [[-9.27232032  5.31074801 -4.62328645]\n",
      " [-1.40608787 -0.19825161 -5.8636628 ]\n",
      " [-1.32642817 -4.71950642  8.75759408]]\n",
      "\n",
      "inv mat by numpy:\n",
      " [[-0.08404376 -0.07055536 -0.09160863]\n",
      " [ 0.05741555 -0.2495773  -0.13679426]\n",
      " [ 0.0182122  -0.14518466  0.0265925 ]]\n",
      "\n",
      "inv mat by IP:\n",
      " [[-0.0859375  -0.06640625 -0.08984375]\n",
      " [ 0.05078125 -0.24609375 -0.140625  ]\n",
      " [ 0.015625   -0.14453125  0.0234375 ]]\n",
      "\n",
      "mat * inv_mat_by_IP:\n",
      " [[ 0.9942876  -0.0229925  -0.02212219]\n",
      " [ 0.01914848  0.98964402  0.01677774]\n",
      " [ 0.01116489 -0.01622187  0.98810798]]\n",
      "\n",
      "mat:\n",
      " [[-0.48673532  7.45713934 -9.50950323]\n",
      " [-7.56053898  3.30048875 -7.27254833]\n",
      " [ 6.50529601 -3.60493491  9.51473817]]\n",
      "\n",
      "inv mat by numpy:\n",
      " [[ 0.04112457 -0.29079032 -0.18116236]\n",
      " [ 0.19527757  0.45381763  0.54204365]\n",
      " [ 0.04586941  0.37075745  0.43433111]]\n",
      "\n",
      "inv mat by IP:\n",
      " [[ 0.04296875 -0.28515625 -0.17578125]\n",
      " [ 0.1875      0.44140625  0.53125   ]\n",
      " [ 0.0390625   0.36328125  0.42578125]]\n",
      "\n",
      "mat * inv_mat_by_IP:\n",
      " [[ 1.00583425 -0.02420069 -0.00180395]\n",
      " [ 0.00989081  0.97081086 -0.01412908]\n",
      " [-0.0247314   0.01025936  0.99256638]]\n",
      "\n"
     ]
    }
   ],
   "source": [
    "import random\n",
    "import invmat\n",
    "import numpy as np\n",
    "\n",
    "MATSIZE = 3\n",
    "NUMELEMENTS = MATSIZE*MATSIZE\n",
    "\n",
    "REPEAT = 2\n",
    "\n",
    "inv_mat = invmat.InvMat(MATSIZE)\n",
    "\n",
    "for i in range(REPEAT):\n",
    "    # IP uses 16bit fixed point with 8 fractional bits, so -10 to 10 is appropriate\n",
    "    m = np.array([random.uniform(-10, 10) for i in range(NUMELEMENTS)])\n",
    "    m = m.reshape(MATSIZE, MATSIZE)\n",
    "    print(\"mat:\\n\", m)\n",
    "    print()\n",
    "    \n",
    "    # get the inverce matrix by numpy\n",
    "    np_inv = np.linalg.inv(m)\n",
    "    print(\"inv mat by numpy:\\n\", np_inv)\n",
    "    print()\n",
    "    \n",
    "    # get the inverce matrix by IP\n",
    "    m_inv = inv_mat.inv(m.reshape(-1))\n",
    "    m_inv = np.array(m_inv)\n",
    "    m_inv = m_inv.reshape(MATSIZE, MATSIZE)\n",
    "    print(\"inv mat by IP:\\n\", m_inv)\n",
    "    print()\n",
    "    \n",
    "    prod = m.dot(m_inv)\n",
    "    print(\"mat * inv_mat_by_IP:\\n\", prod)\n",
    "    print()\n"
   ]
  }
 ],
 "metadata": {
  "kernelspec": {
   "display_name": "Python 3",
   "language": "python",
   "name": "python3"
  },
  "language_info": {
   "codemirror_mode": {
    "name": "ipython",
    "version": 3
   },
   "file_extension": ".py",
   "mimetype": "text/x-python",
   "name": "python",
   "nbconvert_exporter": "python",
   "pygments_lexer": "ipython3",
   "version": "3.6.0"
  }
 },
 "nbformat": 4,
 "nbformat_minor": 2
}
